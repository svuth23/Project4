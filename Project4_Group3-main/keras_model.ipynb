{
  "cells": [
    {
      "cell_type": "code",
      "execution_count": 1,
      "metadata": {
        "colab": {
          "base_uri": "https://localhost:8080/"
        },
        "id": "4AgJtnwK3F3j",
        "outputId": "4a5e2efc-acf9-4b6b-8081-3dadec6df40b"
      },
      "outputs": [
        {
          "output_type": "stream",
          "name": "stdout",
          "text": [
            "Get:1 https://cloud.r-project.org/bin/linux/ubuntu jammy-cran40/ InRelease [3,626 B]\n",
            "Get:2 https://developer.download.nvidia.com/compute/cuda/repos/ubuntu2204/x86_64  InRelease [1,581 B]\n",
            "Get:3 http://security.ubuntu.com/ubuntu jammy-security InRelease [110 kB]\n",
            "Hit:4 http://archive.ubuntu.com/ubuntu jammy InRelease\n",
            "Get:5 https://developer.download.nvidia.com/compute/cuda/repos/ubuntu2204/x86_64  Packages [737 kB]\n",
            "Get:6 http://archive.ubuntu.com/ubuntu jammy-updates InRelease [119 kB]\n",
            "Hit:7 https://ppa.launchpadcontent.net/c2d4u.team/c2d4u4.0+/ubuntu jammy InRelease\n",
            "Hit:8 https://ppa.launchpadcontent.net/deadsnakes/ppa/ubuntu jammy InRelease\n",
            "Hit:9 https://ppa.launchpadcontent.net/graphics-drivers/ppa/ubuntu jammy InRelease\n",
            "Get:10 http://archive.ubuntu.com/ubuntu jammy-backports InRelease [109 kB]\n",
            "Hit:11 https://ppa.launchpadcontent.net/ubuntugis/ppa/ubuntu jammy InRelease\n",
            "Get:12 http://security.ubuntu.com/ubuntu jammy-security/main amd64 Packages [1,569 kB]\n",
            "Get:13 http://archive.ubuntu.com/ubuntu jammy-updates/main amd64 Packages [1,848 kB]\n",
            "Get:14 http://security.ubuntu.com/ubuntu jammy-security/restricted amd64 Packages [1,961 kB]\n",
            "Get:15 http://security.ubuntu.com/ubuntu jammy-security/universe amd64 Packages [1,079 kB]\n",
            "Get:16 http://archive.ubuntu.com/ubuntu jammy-updates/universe amd64 Packages [1,353 kB]\n",
            "Get:17 http://archive.ubuntu.com/ubuntu jammy-updates/restricted amd64 Packages [1,998 kB]\n",
            "Get:18 http://archive.ubuntu.com/ubuntu jammy-backports/universe amd64 Packages [33.3 kB]\n",
            "Fetched 10.9 MB in 4s (3,111 kB/s)\n",
            "Reading package lists... Done\n",
            "Building dependency tree... Done\n",
            "Reading state information... Done\n",
            "38 packages can be upgraded. Run 'apt list --upgradable' to see them.\n",
            "tar: spark-3.2.1-bin-hadoop3.2.tgz: Cannot open: No such file or directory\n",
            "tar: Error is not recoverable: exiting now\n",
            "Collecting pyspark\n",
            "  Downloading pyspark-3.5.1.tar.gz (317.0 MB)\n",
            "\u001b[2K     \u001b[90m━━━━━━━━━━━━━━━━━━━━━━━━━━━━━━━━━━━━━━━━\u001b[0m \u001b[32m317.0/317.0 MB\u001b[0m \u001b[31m3.8 MB/s\u001b[0m eta \u001b[36m0:00:00\u001b[0m\n",
            "\u001b[?25h  Preparing metadata (setup.py) ... \u001b[?25l\u001b[?25hdone\n",
            "Requirement already satisfied: py4j==0.10.9.7 in /usr/local/lib/python3.10/dist-packages (from pyspark) (0.10.9.7)\n",
            "Building wheels for collected packages: pyspark\n",
            "  Building wheel for pyspark (setup.py) ... \u001b[?25l\u001b[?25hdone\n",
            "  Created wheel for pyspark: filename=pyspark-3.5.1-py2.py3-none-any.whl size=317488491 sha256=e0b5333460a39b87735ce53332d8bec8b8e338b97d1f5f9369b98e7d8251fc83\n",
            "  Stored in directory: /root/.cache/pip/wheels/80/1d/60/2c256ed38dddce2fdd93be545214a63e02fbd8d74fb0b7f3a6\n",
            "Successfully built pyspark\n",
            "Installing collected packages: pyspark\n",
            "Successfully installed pyspark-3.5.1\n",
            "Requirement already satisfied: py4j in /usr/local/lib/python3.10/dist-packages (0.10.9.7)\n"
          ]
        }
      ],
      "source": [
        "!sudo apt update\n",
        "!apt-get install openjdk-8-jdk-headless -qq > /dev/null\n",
        "# Check this site for the latest download link https://www.apache.org/dyn/closer.lua/spark/spark-3.2.1/spark-3.2.1-bin-hadoop3.2.tgz\n",
        "!wget -q https://dlcdn.apache.org/spark/spark-3.2.1/spark-3.2.1-bin-hadoop3.2.tgz\n",
        "!tar xf spark-3.2.1-bin-hadoop3.2.tgz\n",
        "!pip install -q findspark\n",
        "!pip install pyspark\n",
        "!pip install py4j\n",
        "import os\n",
        "import sys\n",
        "# os.environ[\"JAVA_HOME\"] = \"/usr/lib/jvm/java-8-openjdk-amd64\"\n",
        "# os.environ[\"SPARK_HOME\"] = \"/content/spark-3.2.1-bin-hadoop3.2\""
      ]
    },
    {
      "cell_type": "code",
      "execution_count": 2,
      "metadata": {
        "id": "CxwarnSH3m3n"
      },
      "outputs": [],
      "source": [
        "# Import packages\n",
        "import findspark\n",
        "findspark.init()\n",
        "findspark.find()\n",
        "import pyspark\n",
        "from pyspark.sql import DataFrame, SparkSession\n",
        "import time\n",
        "from typing import List\n",
        "import pyspark.sql.types as T\n",
        "import pyspark.sql.functions as F"
      ]
    },
    {
      "cell_type": "code",
      "execution_count": 3,
      "metadata": {
        "colab": {
          "base_uri": "https://localhost:8080/",
          "height": 219
        },
        "id": "vFpbquPA3ri_",
        "outputId": "cf17729a-379a-41b6-bcc2-d85fe4ec5e81"
      },
      "outputs": [
        {
          "output_type": "execute_result",
          "data": {
            "text/plain": [
              "<pyspark.sql.session.SparkSession at 0x78c3c8031ff0>"
            ],
            "text/html": [
              "\n",
              "            <div>\n",
              "                <p><b>SparkSession - in-memory</b></p>\n",
              "                \n",
              "        <div>\n",
              "            <p><b>SparkContext</b></p>\n",
              "\n",
              "            <p><a href=\"http://9c9ffd45a3ee:4040\">Spark UI</a></p>\n",
              "\n",
              "            <dl>\n",
              "              <dt>Version</dt>\n",
              "                <dd><code>v3.5.1</code></dd>\n",
              "              <dt>Master</dt>\n",
              "                <dd><code>local[*]</code></dd>\n",
              "              <dt>AppName</dt>\n",
              "                <dd><code>Project 4 Group 3 Spark</code></dd>\n",
              "            </dl>\n",
              "        </div>\n",
              "        \n",
              "            </div>\n",
              "        "
            ]
          },
          "metadata": {},
          "execution_count": 3
        }
      ],
      "source": [
        "# Create a SparkSession\n",
        "spark= SparkSession \\\n",
        "       .builder \\\n",
        "       .appName(\"Project 4 Group 3 Spark\") \\\n",
        "       .getOrCreate()\n",
        "spark"
      ]
    },
    {
      "cell_type": "code",
      "execution_count": 4,
      "metadata": {
        "colab": {
          "base_uri": "https://localhost:8080/"
        },
        "id": "Au9qazsL3zyb",
        "outputId": "09c39dbd-c511-4849-b884-aea51e26384f"
      },
      "outputs": [
        {
          "output_type": "stream",
          "name": "stdout",
          "text": [
            "+-----+------+---+------------+-------------+------------+-------------+--------------+-----------------+----+---------------+------+\n",
            "|   id|gender|age|hypertension|heart_disease|ever_married|    work_type|Residence_type|avg_glucose_level| bmi| smoking_status|stroke|\n",
            "+-----+------+---+------------+-------------+------------+-------------+--------------+-----------------+----+---------------+------+\n",
            "| 9046|  Male| 67|           0|            1|         Yes|      Private|         Urban|           228.69|36.6|formerly smoked|     1|\n",
            "|51676|Female| 61|           0|            0|         Yes|Self-employed|         Rural|           202.21| N/A|   never smoked|     1|\n",
            "|31112|  Male| 80|           0|            1|         Yes|      Private|         Rural|           105.92|32.5|   never smoked|     1|\n",
            "|60182|Female| 49|           0|            0|         Yes|      Private|         Urban|           171.23|34.4|         smokes|     1|\n",
            "| 1665|Female| 79|           1|            0|         Yes|Self-employed|         Rural|           174.12|  24|   never smoked|     1|\n",
            "|56669|  Male| 81|           0|            0|         Yes|      Private|         Urban|           186.21|  29|formerly smoked|     1|\n",
            "|53882|  Male| 74|           1|            1|         Yes|      Private|         Rural|            70.09|27.4|   never smoked|     1|\n",
            "|10434|Female| 69|           0|            0|          No|      Private|         Urban|            94.39|22.8|   never smoked|     1|\n",
            "|27419|Female| 59|           0|            0|         Yes|      Private|         Rural|            76.15| N/A|        Unknown|     1|\n",
            "|60491|Female| 78|           0|            0|         Yes|      Private|         Urban|            58.57|24.2|        Unknown|     1|\n",
            "|12109|Female| 81|           1|            0|         Yes|      Private|         Rural|            80.43|29.7|   never smoked|     1|\n",
            "|12095|Female| 61|           0|            1|         Yes|     Govt_job|         Rural|           120.46|36.8|         smokes|     1|\n",
            "|12175|Female| 54|           0|            0|         Yes|      Private|         Urban|           104.51|27.3|         smokes|     1|\n",
            "| 8213|  Male| 78|           0|            1|         Yes|      Private|         Urban|           219.84| N/A|        Unknown|     1|\n",
            "| 5317|Female| 79|           0|            1|         Yes|      Private|         Urban|           214.09|28.2|   never smoked|     1|\n",
            "|58202|Female| 50|           1|            0|         Yes|Self-employed|         Rural|           167.41|30.9|   never smoked|     1|\n",
            "|56112|  Male| 64|           0|            1|         Yes|      Private|         Urban|           191.61|37.5|         smokes|     1|\n",
            "|34120|  Male| 75|           1|            0|         Yes|      Private|         Urban|           221.29|25.8|         smokes|     1|\n",
            "|27458|Female| 60|           0|            0|          No|      Private|         Urban|            89.22|37.8|   never smoked|     1|\n",
            "|25226|  Male| 57|           0|            1|          No|     Govt_job|         Urban|           217.08| N/A|        Unknown|     1|\n",
            "+-----+------+---+------------+-------------+------------+-------------+--------------+-----------------+----+---------------+------+\n",
            "only showing top 20 rows\n",
            "\n"
          ]
        }
      ],
      "source": [
        "# Read in data from Github as a DataFrame.\n",
        "from pyspark import SparkFiles\n",
        "url = \"https://raw.githubusercontent.com/AlexFeeney/Project4_Group3/main/Data/healthcare-dataset-stroke-data.csv\"\n",
        "spark.sparkContext.addFile(url)\n",
        "df = spark.read.csv(SparkFiles.get(\"healthcare-dataset-stroke-data.csv\"), sep=\",\", header=True)\n",
        "\n",
        "# Show DataFrame\n",
        "df.show()"
      ]
    },
    {
      "cell_type": "markdown",
      "metadata": {
        "id": "c9weEvbhRGHN"
      },
      "source": [
        "# Preprocessing"
      ]
    },
    {
      "cell_type": "code",
      "execution_count": 6,
      "metadata": {
        "id": "HE6-yvjG578P"
      },
      "outputs": [],
      "source": [
        "# Import dependencies\n",
        "from sklearn.model_selection import train_test_split\n",
        "from sklearn.preprocessing import StandardScaler\n",
        "import pandas as pd\n",
        "import tensorflow as tf\n",
        "from keras.callbacks import ModelCheckpoint"
      ]
    },
    {
      "cell_type": "code",
      "execution_count": 18,
      "metadata": {
        "id": "Oc8k8ulT6GhT"
      },
      "outputs": [],
      "source": [
        "# Convert DataFrame to Pandas DataFrame\n",
        "pandas_df = df.toPandas()"
      ]
    },
    {
      "cell_type": "code",
      "execution_count": 19,
      "metadata": {
        "colab": {
          "base_uri": "https://localhost:8080/"
        },
        "id": "Zwq1DVTW8yFA",
        "outputId": "92e22dbc-566f-49a0-e3dd-388b332e204b"
      },
      "outputs": [
        {
          "output_type": "execute_result",
          "data": {
            "text/plain": [
              "id                   5110\n",
              "gender                  3\n",
              "age                   104\n",
              "hypertension            2\n",
              "heart_disease           2\n",
              "ever_married            2\n",
              "work_type               5\n",
              "Residence_type          2\n",
              "avg_glucose_level    3979\n",
              "bmi                   419\n",
              "smoking_status          4\n",
              "stroke                  2\n",
              "dtype: int64"
            ]
          },
          "metadata": {},
          "execution_count": 19
        }
      ],
      "source": [
        "# Determine the number of unique values in each column.\n",
        "pandas_df.nunique()"
      ]
    },
    {
      "cell_type": "code",
      "execution_count": 20,
      "metadata": {
        "colab": {
          "base_uri": "https://localhost:8080/"
        },
        "id": "Xs8zKvw7-MNM",
        "outputId": "ebfe4da3-cb88-4f66-92a3-57796e1b0392"
      },
      "outputs": [
        {
          "output_type": "execute_result",
          "data": {
            "text/plain": [
              "Female    2994\n",
              "Male      2115\n",
              "Other        1\n",
              "Name: gender, dtype: int64"
            ]
          },
          "metadata": {},
          "execution_count": 20
        }
      ],
      "source": [
        "# Count unique values in column 'gender'\n",
        "pandas_df['gender'].value_counts()"
      ]
    },
    {
      "cell_type": "code",
      "execution_count": 21,
      "metadata": {
        "colab": {
          "base_uri": "https://localhost:8080/"
        },
        "id": "GwDsVlur9plc",
        "outputId": "eb123307-c09c-42f3-b18d-0243473afd1e"
      },
      "outputs": [
        {
          "output_type": "execute_result",
          "data": {
            "text/plain": [
              "Female    2994\n",
              "Male      2115\n",
              "Name: gender, dtype: int64"
            ]
          },
          "metadata": {},
          "execution_count": 21
        }
      ],
      "source": [
        "# Conditionally drop rows where column 'gender' contains the text 'Other'\n",
        "pandas_df_clean = pandas_df[~pandas_df['gender'].str.contains('Other')]\n",
        "\n",
        "pandas_df_clean['gender'].value_counts()"
      ]
    },
    {
      "cell_type": "code",
      "execution_count": 22,
      "metadata": {
        "id": "LDmsCXWrADD0",
        "colab": {
          "base_uri": "https://localhost:8080/"
        },
        "outputId": "3088e79b-9b27-4096-da1e-2ec9cfa96e2e"
      },
      "outputs": [
        {
          "output_type": "execute_result",
          "data": {
            "text/plain": [
              "Female    2897\n",
              "Male      2011\n",
              "Name: gender, dtype: int64"
            ]
          },
          "metadata": {},
          "execution_count": 22
        }
      ],
      "source": [
        "# Conditionally drop rows where column 'bmi' contains the text 'N/A'\n",
        "pandas_df_clean = pandas_df_clean[~pandas_df_clean['bmi'].str.contains('N/A')]\n",
        "\n",
        "pandas_df_clean['gender'].value_counts()"
      ]
    },
    {
      "cell_type": "code",
      "execution_count": 23,
      "metadata": {
        "colab": {
          "base_uri": "https://localhost:8080/",
          "height": 223
        },
        "id": "N-6g_QvAFUs4",
        "outputId": "0a9a5059-1dbe-48e5-e81e-d5d93b518561"
      },
      "outputs": [
        {
          "output_type": "execute_result",
          "data": {
            "text/plain": [
              "   gender age hypertension heart_disease ever_married      work_type  \\\n",
              "0    Male  67            0             1          Yes        Private   \n",
              "2    Male  80            0             1          Yes        Private   \n",
              "3  Female  49            0             0          Yes        Private   \n",
              "4  Female  79            1             0          Yes  Self-employed   \n",
              "5    Male  81            0             0          Yes        Private   \n",
              "\n",
              "  Residence_type avg_glucose_level   bmi   smoking_status stroke  \n",
              "0          Urban            228.69  36.6  formerly smoked      1  \n",
              "2          Rural            105.92  32.5     never smoked      1  \n",
              "3          Urban            171.23  34.4           smokes      1  \n",
              "4          Rural            174.12    24     never smoked      1  \n",
              "5          Urban            186.21    29  formerly smoked      1  "
            ],
            "text/html": [
              "\n",
              "  <div id=\"df-04695a3b-d3aa-44b5-a52b-002063643943\" class=\"colab-df-container\">\n",
              "    <div>\n",
              "<style scoped>\n",
              "    .dataframe tbody tr th:only-of-type {\n",
              "        vertical-align: middle;\n",
              "    }\n",
              "\n",
              "    .dataframe tbody tr th {\n",
              "        vertical-align: top;\n",
              "    }\n",
              "\n",
              "    .dataframe thead th {\n",
              "        text-align: right;\n",
              "    }\n",
              "</style>\n",
              "<table border=\"1\" class=\"dataframe\">\n",
              "  <thead>\n",
              "    <tr style=\"text-align: right;\">\n",
              "      <th></th>\n",
              "      <th>gender</th>\n",
              "      <th>age</th>\n",
              "      <th>hypertension</th>\n",
              "      <th>heart_disease</th>\n",
              "      <th>ever_married</th>\n",
              "      <th>work_type</th>\n",
              "      <th>Residence_type</th>\n",
              "      <th>avg_glucose_level</th>\n",
              "      <th>bmi</th>\n",
              "      <th>smoking_status</th>\n",
              "      <th>stroke</th>\n",
              "    </tr>\n",
              "  </thead>\n",
              "  <tbody>\n",
              "    <tr>\n",
              "      <th>0</th>\n",
              "      <td>Male</td>\n",
              "      <td>67</td>\n",
              "      <td>0</td>\n",
              "      <td>1</td>\n",
              "      <td>Yes</td>\n",
              "      <td>Private</td>\n",
              "      <td>Urban</td>\n",
              "      <td>228.69</td>\n",
              "      <td>36.6</td>\n",
              "      <td>formerly smoked</td>\n",
              "      <td>1</td>\n",
              "    </tr>\n",
              "    <tr>\n",
              "      <th>2</th>\n",
              "      <td>Male</td>\n",
              "      <td>80</td>\n",
              "      <td>0</td>\n",
              "      <td>1</td>\n",
              "      <td>Yes</td>\n",
              "      <td>Private</td>\n",
              "      <td>Rural</td>\n",
              "      <td>105.92</td>\n",
              "      <td>32.5</td>\n",
              "      <td>never smoked</td>\n",
              "      <td>1</td>\n",
              "    </tr>\n",
              "    <tr>\n",
              "      <th>3</th>\n",
              "      <td>Female</td>\n",
              "      <td>49</td>\n",
              "      <td>0</td>\n",
              "      <td>0</td>\n",
              "      <td>Yes</td>\n",
              "      <td>Private</td>\n",
              "      <td>Urban</td>\n",
              "      <td>171.23</td>\n",
              "      <td>34.4</td>\n",
              "      <td>smokes</td>\n",
              "      <td>1</td>\n",
              "    </tr>\n",
              "    <tr>\n",
              "      <th>4</th>\n",
              "      <td>Female</td>\n",
              "      <td>79</td>\n",
              "      <td>1</td>\n",
              "      <td>0</td>\n",
              "      <td>Yes</td>\n",
              "      <td>Self-employed</td>\n",
              "      <td>Rural</td>\n",
              "      <td>174.12</td>\n",
              "      <td>24</td>\n",
              "      <td>never smoked</td>\n",
              "      <td>1</td>\n",
              "    </tr>\n",
              "    <tr>\n",
              "      <th>5</th>\n",
              "      <td>Male</td>\n",
              "      <td>81</td>\n",
              "      <td>0</td>\n",
              "      <td>0</td>\n",
              "      <td>Yes</td>\n",
              "      <td>Private</td>\n",
              "      <td>Urban</td>\n",
              "      <td>186.21</td>\n",
              "      <td>29</td>\n",
              "      <td>formerly smoked</td>\n",
              "      <td>1</td>\n",
              "    </tr>\n",
              "  </tbody>\n",
              "</table>\n",
              "</div>\n",
              "    <div class=\"colab-df-buttons\">\n",
              "\n",
              "  <div class=\"colab-df-container\">\n",
              "    <button class=\"colab-df-convert\" onclick=\"convertToInteractive('df-04695a3b-d3aa-44b5-a52b-002063643943')\"\n",
              "            title=\"Convert this dataframe to an interactive table.\"\n",
              "            style=\"display:none;\">\n",
              "\n",
              "  <svg xmlns=\"http://www.w3.org/2000/svg\" height=\"24px\" viewBox=\"0 -960 960 960\">\n",
              "    <path d=\"M120-120v-720h720v720H120Zm60-500h600v-160H180v160Zm220 220h160v-160H400v160Zm0 220h160v-160H400v160ZM180-400h160v-160H180v160Zm440 0h160v-160H620v160ZM180-180h160v-160H180v160Zm440 0h160v-160H620v160Z\"/>\n",
              "  </svg>\n",
              "    </button>\n",
              "\n",
              "  <style>\n",
              "    .colab-df-container {\n",
              "      display:flex;\n",
              "      gap: 12px;\n",
              "    }\n",
              "\n",
              "    .colab-df-convert {\n",
              "      background-color: #E8F0FE;\n",
              "      border: none;\n",
              "      border-radius: 50%;\n",
              "      cursor: pointer;\n",
              "      display: none;\n",
              "      fill: #1967D2;\n",
              "      height: 32px;\n",
              "      padding: 0 0 0 0;\n",
              "      width: 32px;\n",
              "    }\n",
              "\n",
              "    .colab-df-convert:hover {\n",
              "      background-color: #E2EBFA;\n",
              "      box-shadow: 0px 1px 2px rgba(60, 64, 67, 0.3), 0px 1px 3px 1px rgba(60, 64, 67, 0.15);\n",
              "      fill: #174EA6;\n",
              "    }\n",
              "\n",
              "    .colab-df-buttons div {\n",
              "      margin-bottom: 4px;\n",
              "    }\n",
              "\n",
              "    [theme=dark] .colab-df-convert {\n",
              "      background-color: #3B4455;\n",
              "      fill: #D2E3FC;\n",
              "    }\n",
              "\n",
              "    [theme=dark] .colab-df-convert:hover {\n",
              "      background-color: #434B5C;\n",
              "      box-shadow: 0px 1px 3px 1px rgba(0, 0, 0, 0.15);\n",
              "      filter: drop-shadow(0px 1px 2px rgba(0, 0, 0, 0.3));\n",
              "      fill: #FFFFFF;\n",
              "    }\n",
              "  </style>\n",
              "\n",
              "    <script>\n",
              "      const buttonEl =\n",
              "        document.querySelector('#df-04695a3b-d3aa-44b5-a52b-002063643943 button.colab-df-convert');\n",
              "      buttonEl.style.display =\n",
              "        google.colab.kernel.accessAllowed ? 'block' : 'none';\n",
              "\n",
              "      async function convertToInteractive(key) {\n",
              "        const element = document.querySelector('#df-04695a3b-d3aa-44b5-a52b-002063643943');\n",
              "        const dataTable =\n",
              "          await google.colab.kernel.invokeFunction('convertToInteractive',\n",
              "                                                    [key], {});\n",
              "        if (!dataTable) return;\n",
              "\n",
              "        const docLinkHtml = 'Like what you see? Visit the ' +\n",
              "          '<a target=\"_blank\" href=https://colab.research.google.com/notebooks/data_table.ipynb>data table notebook</a>'\n",
              "          + ' to learn more about interactive tables.';\n",
              "        element.innerHTML = '';\n",
              "        dataTable['output_type'] = 'display_data';\n",
              "        await google.colab.output.renderOutput(dataTable, element);\n",
              "        const docLink = document.createElement('div');\n",
              "        docLink.innerHTML = docLinkHtml;\n",
              "        element.appendChild(docLink);\n",
              "      }\n",
              "    </script>\n",
              "  </div>\n",
              "\n",
              "\n",
              "<div id=\"df-939ae4f5-7456-44d5-95a4-4baea1e29934\">\n",
              "  <button class=\"colab-df-quickchart\" onclick=\"quickchart('df-939ae4f5-7456-44d5-95a4-4baea1e29934')\"\n",
              "            title=\"Suggest charts\"\n",
              "            style=\"display:none;\">\n",
              "\n",
              "<svg xmlns=\"http://www.w3.org/2000/svg\" height=\"24px\"viewBox=\"0 0 24 24\"\n",
              "     width=\"24px\">\n",
              "    <g>\n",
              "        <path d=\"M19 3H5c-1.1 0-2 .9-2 2v14c0 1.1.9 2 2 2h14c1.1 0 2-.9 2-2V5c0-1.1-.9-2-2-2zM9 17H7v-7h2v7zm4 0h-2V7h2v10zm4 0h-2v-4h2v4z\"/>\n",
              "    </g>\n",
              "</svg>\n",
              "  </button>\n",
              "\n",
              "<style>\n",
              "  .colab-df-quickchart {\n",
              "      --bg-color: #E8F0FE;\n",
              "      --fill-color: #1967D2;\n",
              "      --hover-bg-color: #E2EBFA;\n",
              "      --hover-fill-color: #174EA6;\n",
              "      --disabled-fill-color: #AAA;\n",
              "      --disabled-bg-color: #DDD;\n",
              "  }\n",
              "\n",
              "  [theme=dark] .colab-df-quickchart {\n",
              "      --bg-color: #3B4455;\n",
              "      --fill-color: #D2E3FC;\n",
              "      --hover-bg-color: #434B5C;\n",
              "      --hover-fill-color: #FFFFFF;\n",
              "      --disabled-bg-color: #3B4455;\n",
              "      --disabled-fill-color: #666;\n",
              "  }\n",
              "\n",
              "  .colab-df-quickchart {\n",
              "    background-color: var(--bg-color);\n",
              "    border: none;\n",
              "    border-radius: 50%;\n",
              "    cursor: pointer;\n",
              "    display: none;\n",
              "    fill: var(--fill-color);\n",
              "    height: 32px;\n",
              "    padding: 0;\n",
              "    width: 32px;\n",
              "  }\n",
              "\n",
              "  .colab-df-quickchart:hover {\n",
              "    background-color: var(--hover-bg-color);\n",
              "    box-shadow: 0 1px 2px rgba(60, 64, 67, 0.3), 0 1px 3px 1px rgba(60, 64, 67, 0.15);\n",
              "    fill: var(--button-hover-fill-color);\n",
              "  }\n",
              "\n",
              "  .colab-df-quickchart-complete:disabled,\n",
              "  .colab-df-quickchart-complete:disabled:hover {\n",
              "    background-color: var(--disabled-bg-color);\n",
              "    fill: var(--disabled-fill-color);\n",
              "    box-shadow: none;\n",
              "  }\n",
              "\n",
              "  .colab-df-spinner {\n",
              "    border: 2px solid var(--fill-color);\n",
              "    border-color: transparent;\n",
              "    border-bottom-color: var(--fill-color);\n",
              "    animation:\n",
              "      spin 1s steps(1) infinite;\n",
              "  }\n",
              "\n",
              "  @keyframes spin {\n",
              "    0% {\n",
              "      border-color: transparent;\n",
              "      border-bottom-color: var(--fill-color);\n",
              "      border-left-color: var(--fill-color);\n",
              "    }\n",
              "    20% {\n",
              "      border-color: transparent;\n",
              "      border-left-color: var(--fill-color);\n",
              "      border-top-color: var(--fill-color);\n",
              "    }\n",
              "    30% {\n",
              "      border-color: transparent;\n",
              "      border-left-color: var(--fill-color);\n",
              "      border-top-color: var(--fill-color);\n",
              "      border-right-color: var(--fill-color);\n",
              "    }\n",
              "    40% {\n",
              "      border-color: transparent;\n",
              "      border-right-color: var(--fill-color);\n",
              "      border-top-color: var(--fill-color);\n",
              "    }\n",
              "    60% {\n",
              "      border-color: transparent;\n",
              "      border-right-color: var(--fill-color);\n",
              "    }\n",
              "    80% {\n",
              "      border-color: transparent;\n",
              "      border-right-color: var(--fill-color);\n",
              "      border-bottom-color: var(--fill-color);\n",
              "    }\n",
              "    90% {\n",
              "      border-color: transparent;\n",
              "      border-bottom-color: var(--fill-color);\n",
              "    }\n",
              "  }\n",
              "</style>\n",
              "\n",
              "  <script>\n",
              "    async function quickchart(key) {\n",
              "      const quickchartButtonEl =\n",
              "        document.querySelector('#' + key + ' button');\n",
              "      quickchartButtonEl.disabled = true;  // To prevent multiple clicks.\n",
              "      quickchartButtonEl.classList.add('colab-df-spinner');\n",
              "      try {\n",
              "        const charts = await google.colab.kernel.invokeFunction(\n",
              "            'suggestCharts', [key], {});\n",
              "      } catch (error) {\n",
              "        console.error('Error during call to suggestCharts:', error);\n",
              "      }\n",
              "      quickchartButtonEl.classList.remove('colab-df-spinner');\n",
              "      quickchartButtonEl.classList.add('colab-df-quickchart-complete');\n",
              "    }\n",
              "    (() => {\n",
              "      let quickchartButtonEl =\n",
              "        document.querySelector('#df-939ae4f5-7456-44d5-95a4-4baea1e29934 button');\n",
              "      quickchartButtonEl.style.display =\n",
              "        google.colab.kernel.accessAllowed ? 'block' : 'none';\n",
              "    })();\n",
              "  </script>\n",
              "</div>\n",
              "\n",
              "    </div>\n",
              "  </div>\n"
            ],
            "application/vnd.google.colaboratory.intrinsic+json": {
              "type": "dataframe",
              "variable_name": "pandas_df_clean",
              "summary": "{\n  \"name\": \"pandas_df_clean\",\n  \"rows\": 4908,\n  \"fields\": [\n    {\n      \"column\": \"gender\",\n      \"properties\": {\n        \"dtype\": \"category\",\n        \"num_unique_values\": 2,\n        \"samples\": [\n          \"Female\",\n          \"Male\"\n        ],\n        \"semantic_type\": \"\",\n        \"description\": \"\"\n      }\n    },\n    {\n      \"column\": \"age\",\n      \"properties\": {\n        \"dtype\": \"category\",\n        \"num_unique_values\": 104,\n        \"samples\": [\n          \"70\",\n          \"36\"\n        ],\n        \"semantic_type\": \"\",\n        \"description\": \"\"\n      }\n    },\n    {\n      \"column\": \"hypertension\",\n      \"properties\": {\n        \"dtype\": \"category\",\n        \"num_unique_values\": 2,\n        \"samples\": [\n          \"1\",\n          \"0\"\n        ],\n        \"semantic_type\": \"\",\n        \"description\": \"\"\n      }\n    },\n    {\n      \"column\": \"heart_disease\",\n      \"properties\": {\n        \"dtype\": \"category\",\n        \"num_unique_values\": 2,\n        \"samples\": [\n          \"0\",\n          \"1\"\n        ],\n        \"semantic_type\": \"\",\n        \"description\": \"\"\n      }\n    },\n    {\n      \"column\": \"ever_married\",\n      \"properties\": {\n        \"dtype\": \"category\",\n        \"num_unique_values\": 2,\n        \"samples\": [\n          \"No\",\n          \"Yes\"\n        ],\n        \"semantic_type\": \"\",\n        \"description\": \"\"\n      }\n    },\n    {\n      \"column\": \"work_type\",\n      \"properties\": {\n        \"dtype\": \"category\",\n        \"num_unique_values\": 5,\n        \"samples\": [\n          \"Self-employed\",\n          \"Never_worked\"\n        ],\n        \"semantic_type\": \"\",\n        \"description\": \"\"\n      }\n    },\n    {\n      \"column\": \"Residence_type\",\n      \"properties\": {\n        \"dtype\": \"category\",\n        \"num_unique_values\": 2,\n        \"samples\": [\n          \"Rural\",\n          \"Urban\"\n        ],\n        \"semantic_type\": \"\",\n        \"description\": \"\"\n      }\n    },\n    {\n      \"column\": \"avg_glucose_level\",\n      \"properties\": {\n        \"dtype\": \"string\",\n        \"num_unique_values\": 3851,\n        \"samples\": [\n          \"89.74\",\n          \"100.61\"\n        ],\n        \"semantic_type\": \"\",\n        \"description\": \"\"\n      }\n    },\n    {\n      \"column\": \"bmi\",\n      \"properties\": {\n        \"dtype\": \"category\",\n        \"num_unique_values\": 418,\n        \"samples\": [\n          \"49.5\",\n          \"18.5\"\n        ],\n        \"semantic_type\": \"\",\n        \"description\": \"\"\n      }\n    },\n    {\n      \"column\": \"smoking_status\",\n      \"properties\": {\n        \"dtype\": \"category\",\n        \"num_unique_values\": 4,\n        \"samples\": [\n          \"never smoked\",\n          \"Unknown\"\n        ],\n        \"semantic_type\": \"\",\n        \"description\": \"\"\n      }\n    },\n    {\n      \"column\": \"stroke\",\n      \"properties\": {\n        \"dtype\": \"category\",\n        \"num_unique_values\": 2,\n        \"samples\": [\n          \"0\",\n          \"1\"\n        ],\n        \"semantic_type\": \"\",\n        \"description\": \"\"\n      }\n    }\n  ]\n}"
            }
          },
          "metadata": {},
          "execution_count": 23
        }
      ],
      "source": [
        "# Drop the non-beneficial 'id' columns\n",
        "pandas_df_clean = pandas_df_clean.drop(columns = ['id'])\n",
        "pandas_df_clean.head()"
      ]
    },
    {
      "cell_type": "code",
      "execution_count": 24,
      "metadata": {
        "colab": {
          "base_uri": "https://localhost:8080/"
        },
        "id": "LmMPlDZDAhqD",
        "outputId": "50818b75-064c-4cfa-fcac-3de1c60efaf6"
      },
      "outputs": [
        {
          "output_type": "stream",
          "name": "stdout",
          "text": [
            "gender               object\n",
            "age                  object\n",
            "hypertension         object\n",
            "heart_disease        object\n",
            "ever_married         object\n",
            "work_type            object\n",
            "Residence_type       object\n",
            "avg_glucose_level    object\n",
            "bmi                  object\n",
            "smoking_status       object\n",
            "stroke               object\n",
            "dtype: object\n"
          ]
        }
      ],
      "source": [
        "# Check data types of columns\n",
        "print(pandas_df_clean.dtypes)"
      ]
    },
    {
      "cell_type": "code",
      "execution_count": 25,
      "metadata": {
        "id": "Im1qIebqAyY0"
      },
      "outputs": [],
      "source": [
        "import numpy as np\n",
        "\n",
        "# Change data types using astype()\n",
        "pandas_df_clean['age'] = pandas_df_clean['age'].astype(float)\n",
        "pandas_df_clean['hypertension'] = pandas_df_clean['hypertension'].astype(np.int64)\n",
        "pandas_df_clean['avg_glucose_level'] = pandas_df_clean['avg_glucose_level'].astype(float)\n",
        "pandas_df_clean['bmi'] = pandas_df_clean['bmi'].astype(float)\n",
        "pandas_df_clean['heart_disease'] = pandas_df_clean['heart_disease'].astype(np.int64)\n",
        "pandas_df_clean['stroke'] = pandas_df_clean['stroke'].astype(np.int64)\n"
      ]
    },
    {
      "cell_type": "code",
      "execution_count": 26,
      "metadata": {
        "colab": {
          "base_uri": "https://localhost:8080/"
        },
        "id": "IiYSJUonEGuq",
        "outputId": "12527966-bad1-4f33-fac3-be1743c9e6e2"
      },
      "outputs": [
        {
          "output_type": "stream",
          "name": "stdout",
          "text": [
            "gender                object\n",
            "age                  float64\n",
            "hypertension           int64\n",
            "heart_disease          int64\n",
            "ever_married          object\n",
            "work_type             object\n",
            "Residence_type        object\n",
            "avg_glucose_level    float64\n",
            "bmi                  float64\n",
            "smoking_status        object\n",
            "stroke                 int64\n",
            "dtype: object\n"
          ]
        }
      ],
      "source": [
        "# Check data types of columns\n",
        "print(pandas_df_clean.dtypes)"
      ]
    },
    {
      "cell_type": "code",
      "execution_count": 27,
      "metadata": {
        "colab": {
          "base_uri": "https://localhost:8080/",
          "height": 272
        },
        "id": "iPdXCl7M_Kus",
        "outputId": "aa6fd546-4fe7-4394-d8f0-bd727f28dcf2"
      },
      "outputs": [
        {
          "output_type": "execute_result",
          "data": {
            "text/plain": [
              "    age  hypertension  heart_disease  avg_glucose_level   bmi  stroke  \\\n",
              "0  67.0             0              1             228.69  36.6       1   \n",
              "2  80.0             0              1             105.92  32.5       1   \n",
              "3  49.0             0              0             171.23  34.4       1   \n",
              "4  79.0             1              0             174.12  24.0       1   \n",
              "5  81.0             0              0             186.21  29.0       1   \n",
              "\n",
              "   gender_Female  gender_Male  ever_married_No  ever_married_Yes  ...  \\\n",
              "0              0            1                0                 1  ...   \n",
              "2              0            1                0                 1  ...   \n",
              "3              1            0                0                 1  ...   \n",
              "4              1            0                0                 1  ...   \n",
              "5              0            1                0                 1  ...   \n",
              "\n",
              "   work_type_Never_worked  work_type_Private  work_type_Self-employed  \\\n",
              "0                       0                  1                        0   \n",
              "2                       0                  1                        0   \n",
              "3                       0                  1                        0   \n",
              "4                       0                  0                        1   \n",
              "5                       0                  1                        0   \n",
              "\n",
              "   work_type_children  Residence_type_Rural  Residence_type_Urban  \\\n",
              "0                   0                     0                     1   \n",
              "2                   0                     1                     0   \n",
              "3                   0                     0                     1   \n",
              "4                   0                     1                     0   \n",
              "5                   0                     0                     1   \n",
              "\n",
              "   smoking_status_Unknown  smoking_status_formerly smoked  \\\n",
              "0                       0                               1   \n",
              "2                       0                               0   \n",
              "3                       0                               0   \n",
              "4                       0                               0   \n",
              "5                       0                               1   \n",
              "\n",
              "   smoking_status_never smoked  smoking_status_smokes  \n",
              "0                            0                      0  \n",
              "2                            1                      0  \n",
              "3                            0                      1  \n",
              "4                            1                      0  \n",
              "5                            0                      0  \n",
              "\n",
              "[5 rows x 21 columns]"
            ],
            "text/html": [
              "\n",
              "  <div id=\"df-90fad547-0a5f-4ce7-98d0-90625ea23fe1\" class=\"colab-df-container\">\n",
              "    <div>\n",
              "<style scoped>\n",
              "    .dataframe tbody tr th:only-of-type {\n",
              "        vertical-align: middle;\n",
              "    }\n",
              "\n",
              "    .dataframe tbody tr th {\n",
              "        vertical-align: top;\n",
              "    }\n",
              "\n",
              "    .dataframe thead th {\n",
              "        text-align: right;\n",
              "    }\n",
              "</style>\n",
              "<table border=\"1\" class=\"dataframe\">\n",
              "  <thead>\n",
              "    <tr style=\"text-align: right;\">\n",
              "      <th></th>\n",
              "      <th>age</th>\n",
              "      <th>hypertension</th>\n",
              "      <th>heart_disease</th>\n",
              "      <th>avg_glucose_level</th>\n",
              "      <th>bmi</th>\n",
              "      <th>stroke</th>\n",
              "      <th>gender_Female</th>\n",
              "      <th>gender_Male</th>\n",
              "      <th>ever_married_No</th>\n",
              "      <th>ever_married_Yes</th>\n",
              "      <th>...</th>\n",
              "      <th>work_type_Never_worked</th>\n",
              "      <th>work_type_Private</th>\n",
              "      <th>work_type_Self-employed</th>\n",
              "      <th>work_type_children</th>\n",
              "      <th>Residence_type_Rural</th>\n",
              "      <th>Residence_type_Urban</th>\n",
              "      <th>smoking_status_Unknown</th>\n",
              "      <th>smoking_status_formerly smoked</th>\n",
              "      <th>smoking_status_never smoked</th>\n",
              "      <th>smoking_status_smokes</th>\n",
              "    </tr>\n",
              "  </thead>\n",
              "  <tbody>\n",
              "    <tr>\n",
              "      <th>0</th>\n",
              "      <td>67.0</td>\n",
              "      <td>0</td>\n",
              "      <td>1</td>\n",
              "      <td>228.69</td>\n",
              "      <td>36.6</td>\n",
              "      <td>1</td>\n",
              "      <td>0</td>\n",
              "      <td>1</td>\n",
              "      <td>0</td>\n",
              "      <td>1</td>\n",
              "      <td>...</td>\n",
              "      <td>0</td>\n",
              "      <td>1</td>\n",
              "      <td>0</td>\n",
              "      <td>0</td>\n",
              "      <td>0</td>\n",
              "      <td>1</td>\n",
              "      <td>0</td>\n",
              "      <td>1</td>\n",
              "      <td>0</td>\n",
              "      <td>0</td>\n",
              "    </tr>\n",
              "    <tr>\n",
              "      <th>2</th>\n",
              "      <td>80.0</td>\n",
              "      <td>0</td>\n",
              "      <td>1</td>\n",
              "      <td>105.92</td>\n",
              "      <td>32.5</td>\n",
              "      <td>1</td>\n",
              "      <td>0</td>\n",
              "      <td>1</td>\n",
              "      <td>0</td>\n",
              "      <td>1</td>\n",
              "      <td>...</td>\n",
              "      <td>0</td>\n",
              "      <td>1</td>\n",
              "      <td>0</td>\n",
              "      <td>0</td>\n",
              "      <td>1</td>\n",
              "      <td>0</td>\n",
              "      <td>0</td>\n",
              "      <td>0</td>\n",
              "      <td>1</td>\n",
              "      <td>0</td>\n",
              "    </tr>\n",
              "    <tr>\n",
              "      <th>3</th>\n",
              "      <td>49.0</td>\n",
              "      <td>0</td>\n",
              "      <td>0</td>\n",
              "      <td>171.23</td>\n",
              "      <td>34.4</td>\n",
              "      <td>1</td>\n",
              "      <td>1</td>\n",
              "      <td>0</td>\n",
              "      <td>0</td>\n",
              "      <td>1</td>\n",
              "      <td>...</td>\n",
              "      <td>0</td>\n",
              "      <td>1</td>\n",
              "      <td>0</td>\n",
              "      <td>0</td>\n",
              "      <td>0</td>\n",
              "      <td>1</td>\n",
              "      <td>0</td>\n",
              "      <td>0</td>\n",
              "      <td>0</td>\n",
              "      <td>1</td>\n",
              "    </tr>\n",
              "    <tr>\n",
              "      <th>4</th>\n",
              "      <td>79.0</td>\n",
              "      <td>1</td>\n",
              "      <td>0</td>\n",
              "      <td>174.12</td>\n",
              "      <td>24.0</td>\n",
              "      <td>1</td>\n",
              "      <td>1</td>\n",
              "      <td>0</td>\n",
              "      <td>0</td>\n",
              "      <td>1</td>\n",
              "      <td>...</td>\n",
              "      <td>0</td>\n",
              "      <td>0</td>\n",
              "      <td>1</td>\n",
              "      <td>0</td>\n",
              "      <td>1</td>\n",
              "      <td>0</td>\n",
              "      <td>0</td>\n",
              "      <td>0</td>\n",
              "      <td>1</td>\n",
              "      <td>0</td>\n",
              "    </tr>\n",
              "    <tr>\n",
              "      <th>5</th>\n",
              "      <td>81.0</td>\n",
              "      <td>0</td>\n",
              "      <td>0</td>\n",
              "      <td>186.21</td>\n",
              "      <td>29.0</td>\n",
              "      <td>1</td>\n",
              "      <td>0</td>\n",
              "      <td>1</td>\n",
              "      <td>0</td>\n",
              "      <td>1</td>\n",
              "      <td>...</td>\n",
              "      <td>0</td>\n",
              "      <td>1</td>\n",
              "      <td>0</td>\n",
              "      <td>0</td>\n",
              "      <td>0</td>\n",
              "      <td>1</td>\n",
              "      <td>0</td>\n",
              "      <td>1</td>\n",
              "      <td>0</td>\n",
              "      <td>0</td>\n",
              "    </tr>\n",
              "  </tbody>\n",
              "</table>\n",
              "<p>5 rows × 21 columns</p>\n",
              "</div>\n",
              "    <div class=\"colab-df-buttons\">\n",
              "\n",
              "  <div class=\"colab-df-container\">\n",
              "    <button class=\"colab-df-convert\" onclick=\"convertToInteractive('df-90fad547-0a5f-4ce7-98d0-90625ea23fe1')\"\n",
              "            title=\"Convert this dataframe to an interactive table.\"\n",
              "            style=\"display:none;\">\n",
              "\n",
              "  <svg xmlns=\"http://www.w3.org/2000/svg\" height=\"24px\" viewBox=\"0 -960 960 960\">\n",
              "    <path d=\"M120-120v-720h720v720H120Zm60-500h600v-160H180v160Zm220 220h160v-160H400v160Zm0 220h160v-160H400v160ZM180-400h160v-160H180v160Zm440 0h160v-160H620v160ZM180-180h160v-160H180v160Zm440 0h160v-160H620v160Z\"/>\n",
              "  </svg>\n",
              "    </button>\n",
              "\n",
              "  <style>\n",
              "    .colab-df-container {\n",
              "      display:flex;\n",
              "      gap: 12px;\n",
              "    }\n",
              "\n",
              "    .colab-df-convert {\n",
              "      background-color: #E8F0FE;\n",
              "      border: none;\n",
              "      border-radius: 50%;\n",
              "      cursor: pointer;\n",
              "      display: none;\n",
              "      fill: #1967D2;\n",
              "      height: 32px;\n",
              "      padding: 0 0 0 0;\n",
              "      width: 32px;\n",
              "    }\n",
              "\n",
              "    .colab-df-convert:hover {\n",
              "      background-color: #E2EBFA;\n",
              "      box-shadow: 0px 1px 2px rgba(60, 64, 67, 0.3), 0px 1px 3px 1px rgba(60, 64, 67, 0.15);\n",
              "      fill: #174EA6;\n",
              "    }\n",
              "\n",
              "    .colab-df-buttons div {\n",
              "      margin-bottom: 4px;\n",
              "    }\n",
              "\n",
              "    [theme=dark] .colab-df-convert {\n",
              "      background-color: #3B4455;\n",
              "      fill: #D2E3FC;\n",
              "    }\n",
              "\n",
              "    [theme=dark] .colab-df-convert:hover {\n",
              "      background-color: #434B5C;\n",
              "      box-shadow: 0px 1px 3px 1px rgba(0, 0, 0, 0.15);\n",
              "      filter: drop-shadow(0px 1px 2px rgba(0, 0, 0, 0.3));\n",
              "      fill: #FFFFFF;\n",
              "    }\n",
              "  </style>\n",
              "\n",
              "    <script>\n",
              "      const buttonEl =\n",
              "        document.querySelector('#df-90fad547-0a5f-4ce7-98d0-90625ea23fe1 button.colab-df-convert');\n",
              "      buttonEl.style.display =\n",
              "        google.colab.kernel.accessAllowed ? 'block' : 'none';\n",
              "\n",
              "      async function convertToInteractive(key) {\n",
              "        const element = document.querySelector('#df-90fad547-0a5f-4ce7-98d0-90625ea23fe1');\n",
              "        const dataTable =\n",
              "          await google.colab.kernel.invokeFunction('convertToInteractive',\n",
              "                                                    [key], {});\n",
              "        if (!dataTable) return;\n",
              "\n",
              "        const docLinkHtml = 'Like what you see? Visit the ' +\n",
              "          '<a target=\"_blank\" href=https://colab.research.google.com/notebooks/data_table.ipynb>data table notebook</a>'\n",
              "          + ' to learn more about interactive tables.';\n",
              "        element.innerHTML = '';\n",
              "        dataTable['output_type'] = 'display_data';\n",
              "        await google.colab.output.renderOutput(dataTable, element);\n",
              "        const docLink = document.createElement('div');\n",
              "        docLink.innerHTML = docLinkHtml;\n",
              "        element.appendChild(docLink);\n",
              "      }\n",
              "    </script>\n",
              "  </div>\n",
              "\n",
              "\n",
              "<div id=\"df-b2974e3f-fc4b-45d8-af6d-7642053adff8\">\n",
              "  <button class=\"colab-df-quickchart\" onclick=\"quickchart('df-b2974e3f-fc4b-45d8-af6d-7642053adff8')\"\n",
              "            title=\"Suggest charts\"\n",
              "            style=\"display:none;\">\n",
              "\n",
              "<svg xmlns=\"http://www.w3.org/2000/svg\" height=\"24px\"viewBox=\"0 0 24 24\"\n",
              "     width=\"24px\">\n",
              "    <g>\n",
              "        <path d=\"M19 3H5c-1.1 0-2 .9-2 2v14c0 1.1.9 2 2 2h14c1.1 0 2-.9 2-2V5c0-1.1-.9-2-2-2zM9 17H7v-7h2v7zm4 0h-2V7h2v10zm4 0h-2v-4h2v4z\"/>\n",
              "    </g>\n",
              "</svg>\n",
              "  </button>\n",
              "\n",
              "<style>\n",
              "  .colab-df-quickchart {\n",
              "      --bg-color: #E8F0FE;\n",
              "      --fill-color: #1967D2;\n",
              "      --hover-bg-color: #E2EBFA;\n",
              "      --hover-fill-color: #174EA6;\n",
              "      --disabled-fill-color: #AAA;\n",
              "      --disabled-bg-color: #DDD;\n",
              "  }\n",
              "\n",
              "  [theme=dark] .colab-df-quickchart {\n",
              "      --bg-color: #3B4455;\n",
              "      --fill-color: #D2E3FC;\n",
              "      --hover-bg-color: #434B5C;\n",
              "      --hover-fill-color: #FFFFFF;\n",
              "      --disabled-bg-color: #3B4455;\n",
              "      --disabled-fill-color: #666;\n",
              "  }\n",
              "\n",
              "  .colab-df-quickchart {\n",
              "    background-color: var(--bg-color);\n",
              "    border: none;\n",
              "    border-radius: 50%;\n",
              "    cursor: pointer;\n",
              "    display: none;\n",
              "    fill: var(--fill-color);\n",
              "    height: 32px;\n",
              "    padding: 0;\n",
              "    width: 32px;\n",
              "  }\n",
              "\n",
              "  .colab-df-quickchart:hover {\n",
              "    background-color: var(--hover-bg-color);\n",
              "    box-shadow: 0 1px 2px rgba(60, 64, 67, 0.3), 0 1px 3px 1px rgba(60, 64, 67, 0.15);\n",
              "    fill: var(--button-hover-fill-color);\n",
              "  }\n",
              "\n",
              "  .colab-df-quickchart-complete:disabled,\n",
              "  .colab-df-quickchart-complete:disabled:hover {\n",
              "    background-color: var(--disabled-bg-color);\n",
              "    fill: var(--disabled-fill-color);\n",
              "    box-shadow: none;\n",
              "  }\n",
              "\n",
              "  .colab-df-spinner {\n",
              "    border: 2px solid var(--fill-color);\n",
              "    border-color: transparent;\n",
              "    border-bottom-color: var(--fill-color);\n",
              "    animation:\n",
              "      spin 1s steps(1) infinite;\n",
              "  }\n",
              "\n",
              "  @keyframes spin {\n",
              "    0% {\n",
              "      border-color: transparent;\n",
              "      border-bottom-color: var(--fill-color);\n",
              "      border-left-color: var(--fill-color);\n",
              "    }\n",
              "    20% {\n",
              "      border-color: transparent;\n",
              "      border-left-color: var(--fill-color);\n",
              "      border-top-color: var(--fill-color);\n",
              "    }\n",
              "    30% {\n",
              "      border-color: transparent;\n",
              "      border-left-color: var(--fill-color);\n",
              "      border-top-color: var(--fill-color);\n",
              "      border-right-color: var(--fill-color);\n",
              "    }\n",
              "    40% {\n",
              "      border-color: transparent;\n",
              "      border-right-color: var(--fill-color);\n",
              "      border-top-color: var(--fill-color);\n",
              "    }\n",
              "    60% {\n",
              "      border-color: transparent;\n",
              "      border-right-color: var(--fill-color);\n",
              "    }\n",
              "    80% {\n",
              "      border-color: transparent;\n",
              "      border-right-color: var(--fill-color);\n",
              "      border-bottom-color: var(--fill-color);\n",
              "    }\n",
              "    90% {\n",
              "      border-color: transparent;\n",
              "      border-bottom-color: var(--fill-color);\n",
              "    }\n",
              "  }\n",
              "</style>\n",
              "\n",
              "  <script>\n",
              "    async function quickchart(key) {\n",
              "      const quickchartButtonEl =\n",
              "        document.querySelector('#' + key + ' button');\n",
              "      quickchartButtonEl.disabled = true;  // To prevent multiple clicks.\n",
              "      quickchartButtonEl.classList.add('colab-df-spinner');\n",
              "      try {\n",
              "        const charts = await google.colab.kernel.invokeFunction(\n",
              "            'suggestCharts', [key], {});\n",
              "      } catch (error) {\n",
              "        console.error('Error during call to suggestCharts:', error);\n",
              "      }\n",
              "      quickchartButtonEl.classList.remove('colab-df-spinner');\n",
              "      quickchartButtonEl.classList.add('colab-df-quickchart-complete');\n",
              "    }\n",
              "    (() => {\n",
              "      let quickchartButtonEl =\n",
              "        document.querySelector('#df-b2974e3f-fc4b-45d8-af6d-7642053adff8 button');\n",
              "      quickchartButtonEl.style.display =\n",
              "        google.colab.kernel.accessAllowed ? 'block' : 'none';\n",
              "    })();\n",
              "  </script>\n",
              "</div>\n",
              "\n",
              "    </div>\n",
              "  </div>\n"
            ],
            "application/vnd.google.colaboratory.intrinsic+json": {
              "type": "dataframe",
              "variable_name": "pandas_df_numeric"
            }
          },
          "metadata": {},
          "execution_count": 27
        }
      ],
      "source": [
        "# Convert categorical data to numeric with `pd.get_dummies`\n",
        "pandas_df_numeric = pd.get_dummies(pandas_df_clean, dtype=int)\n",
        "pandas_df_numeric.head()"
      ]
    },
    {
      "cell_type": "code",
      "execution_count": 28,
      "metadata": {
        "colab": {
          "base_uri": "https://localhost:8080/"
        },
        "id": "Eb4Sf2NaLrBO",
        "outputId": "03e15f67-766d-4cf8-ee9b-41e294b5b63d"
      },
      "outputs": [
        {
          "output_type": "stream",
          "name": "stdout",
          "text": [
            "X_train: (3681, 20)\n",
            "X_test: (1227, 20)\n",
            "y_train: (3681,)\n",
            "y_test: (1227,)\n"
          ]
        }
      ],
      "source": [
        "# Split pandas_df_numeric into features and target arrays\n",
        "y = pandas_df_numeric['stroke'].values\n",
        "X = pandas_df_numeric.drop(columns='stroke').values\n",
        "\n",
        "# Split the preprocessed data into a training and testing dataset\n",
        "X_train, X_test, y_train, y_test = train_test_split(X, y)\n",
        "\n",
        "# Checking split data\n",
        "print (f\"X_train: {X_train.shape}\")\n",
        "print (f\"X_test: {X_test.shape}\")\n",
        "print (f\"y_train: {y_train.shape}\")\n",
        "print (f\"y_test: {y_test.shape}\")"
      ]
    },
    {
      "cell_type": "code",
      "execution_count": 29,
      "metadata": {
        "id": "GqcMoG3fQwxH"
      },
      "outputs": [],
      "source": [
        "# Create a StandardScaler instances\n",
        "scaler = StandardScaler()\n",
        "\n",
        "# Fit the StandardScaler\n",
        "X_scaler = scaler.fit(X_train)\n",
        "\n",
        "# Scale the data\n",
        "X_train_scaled = X_scaler.transform(X_train)\n",
        "X_test_scaled = X_scaler.transform(X_test)"
      ]
    },
    {
      "cell_type": "markdown",
      "metadata": {
        "id": "nw41i2hPROS_"
      },
      "source": [
        "# Compile, Train and Evaluate the Model"
      ]
    },
    {
      "cell_type": "code",
      "execution_count": 30,
      "metadata": {
        "colab": {
          "base_uri": "https://localhost:8080/"
        },
        "id": "BUwaoLVaQ92V",
        "outputId": "4e3a2f0b-d59b-471f-dd8b-95c6eb012a11"
      },
      "outputs": [
        {
          "output_type": "stream",
          "name": "stdout",
          "text": [
            "Model: \"sequential\"\n",
            "_________________________________________________________________\n",
            " Layer (type)                Output Shape              Param #   \n",
            "=================================================================\n",
            " dense (Dense)               (None, 4)                 84        \n",
            "                                                                 \n",
            " dense_1 (Dense)             (None, 4)                 20        \n",
            "                                                                 \n",
            " dense_2 (Dense)             (None, 1)                 5         \n",
            "                                                                 \n",
            "=================================================================\n",
            "Total params: 109 (436.00 Byte)\n",
            "Trainable params: 109 (436.00 Byte)\n",
            "Non-trainable params: 0 (0.00 Byte)\n",
            "_________________________________________________________________\n"
          ]
        }
      ],
      "source": [
        "# Define the model - deep neural net, i.e., the number of input features and hidden nodes for each layer.\n",
        "input_features_number = len(X_train[0])\n",
        "hidden_nodes_layer1 = 4\n",
        "hidden_nodes_layer2 = 4\n",
        "\n",
        "nn = tf.keras.models.Sequential()\n",
        "\n",
        "# First hidden layer\n",
        "nn.add(tf.keras.layers.Dense(units=hidden_nodes_layer1, activation=\"relu\", input_dim = input_features_number))\n",
        "\n",
        "# Second hidden layer\n",
        "nn.add(tf.keras.layers.Dense(units=hidden_nodes_layer2, activation=\"relu\"))\n",
        "\n",
        "# Output layer\n",
        "nn.add(tf.keras.layers.Dense(units=1, activation=\"sigmoid\"))\n",
        "\n",
        "# Check the structure of the model\n",
        "nn.summary()"
      ]
    },
    {
      "cell_type": "code",
      "execution_count": 31,
      "metadata": {
        "id": "bLj2ZNlgRiB3"
      },
      "outputs": [],
      "source": [
        "# Compile the model\n",
        "nn.compile(loss=\"binary_crossentropy\", optimizer=\"adam\", metrics=[\"accuracy\"])"
      ]
    },
    {
      "cell_type": "code",
      "execution_count": 32,
      "metadata": {
        "id": "W9Yh270NRpx3"
      },
      "outputs": [],
      "source": [
        "# Create a callback that saves the model's weights every five epochs\n",
        "checkpoint_callback = ModelCheckpoint(filepath='model_weights_{epoch:02d}.h5',\n",
        "                                      save_weights_only=True,\n",
        "                                      save_freq=5 * len(X_train))  # Save every 5 epochs"
      ]
    },
    {
      "cell_type": "code",
      "execution_count": 33,
      "metadata": {
        "colab": {
          "base_uri": "https://localhost:8080/"
        },
        "id": "QYUmnjVxRvHK",
        "outputId": "02ba1f0a-4823-44dd-ada3-37150b4a2e10"
      },
      "outputs": [
        {
          "output_type": "stream",
          "name": "stdout",
          "text": [
            "Epoch 1/50\n",
            "116/116 [==============================] - 1s 2ms/step - loss: 0.5801 - accuracy: 0.7444\n",
            "Epoch 2/50\n",
            "116/116 [==============================] - 0s 2ms/step - loss: 0.3381 - accuracy: 0.9557\n",
            "Epoch 3/50\n",
            "116/116 [==============================] - 0s 2ms/step - loss: 0.2434 - accuracy: 0.9560\n",
            "Epoch 4/50\n",
            "116/116 [==============================] - 0s 2ms/step - loss: 0.2079 - accuracy: 0.9560\n",
            "Epoch 5/50\n",
            "116/116 [==============================] - 0s 2ms/step - loss: 0.1913 - accuracy: 0.9560\n",
            "Epoch 6/50\n",
            "116/116 [==============================] - 0s 2ms/step - loss: 0.1808 - accuracy: 0.9560\n",
            "Epoch 7/50\n",
            "116/116 [==============================] - 0s 2ms/step - loss: 0.1733 - accuracy: 0.9560\n",
            "Epoch 8/50\n",
            "116/116 [==============================] - 0s 2ms/step - loss: 0.1674 - accuracy: 0.9560\n",
            "Epoch 9/50\n",
            "116/116 [==============================] - 0s 2ms/step - loss: 0.1630 - accuracy: 0.9560\n",
            "Epoch 10/50\n",
            "116/116 [==============================] - 1s 5ms/step - loss: 0.1594 - accuracy: 0.9560\n",
            "Epoch 11/50\n",
            "116/116 [==============================] - 0s 2ms/step - loss: 0.1566 - accuracy: 0.9560\n",
            "Epoch 12/50\n",
            "116/116 [==============================] - 0s 2ms/step - loss: 0.1547 - accuracy: 0.9560\n",
            "Epoch 13/50\n",
            "116/116 [==============================] - 0s 2ms/step - loss: 0.1528 - accuracy: 0.9560\n",
            "Epoch 14/50\n",
            "116/116 [==============================] - 0s 2ms/step - loss: 0.1511 - accuracy: 0.9560\n",
            "Epoch 15/50\n",
            "116/116 [==============================] - 0s 2ms/step - loss: 0.1510 - accuracy: 0.9560\n",
            "Epoch 16/50\n",
            "116/116 [==============================] - 0s 2ms/step - loss: 0.1494 - accuracy: 0.9560\n",
            "Epoch 17/50\n",
            "116/116 [==============================] - 0s 2ms/step - loss: 0.1485 - accuracy: 0.9560\n",
            "Epoch 18/50\n",
            "116/116 [==============================] - 0s 2ms/step - loss: 0.1478 - accuracy: 0.9560\n",
            "Epoch 19/50\n",
            "116/116 [==============================] - 0s 2ms/step - loss: 0.1473 - accuracy: 0.9560\n",
            "Epoch 20/50\n",
            "116/116 [==============================] - 0s 2ms/step - loss: 0.1467 - accuracy: 0.9560\n",
            "Epoch 21/50\n",
            "116/116 [==============================] - 0s 2ms/step - loss: 0.1464 - accuracy: 0.9560\n",
            "Epoch 22/50\n",
            "116/116 [==============================] - 0s 2ms/step - loss: 0.1456 - accuracy: 0.9560\n",
            "Epoch 23/50\n",
            "116/116 [==============================] - 0s 2ms/step - loss: 0.1452 - accuracy: 0.9560\n",
            "Epoch 24/50\n",
            "116/116 [==============================] - 0s 2ms/step - loss: 0.1449 - accuracy: 0.9560\n",
            "Epoch 25/50\n",
            "116/116 [==============================] - 0s 2ms/step - loss: 0.1446 - accuracy: 0.9560\n",
            "Epoch 26/50\n",
            "116/116 [==============================] - 0s 2ms/step - loss: 0.1440 - accuracy: 0.9560\n",
            "Epoch 27/50\n",
            "116/116 [==============================] - 0s 2ms/step - loss: 0.1434 - accuracy: 0.9560\n",
            "Epoch 28/50\n",
            "116/116 [==============================] - 0s 2ms/step - loss: 0.1430 - accuracy: 0.9560\n",
            "Epoch 29/50\n",
            "116/116 [==============================] - 0s 2ms/step - loss: 0.1425 - accuracy: 0.9560\n",
            "Epoch 30/50\n",
            "116/116 [==============================] - 0s 2ms/step - loss: 0.1422 - accuracy: 0.9560\n",
            "Epoch 31/50\n",
            "116/116 [==============================] - 0s 2ms/step - loss: 0.1426 - accuracy: 0.9560\n",
            "Epoch 32/50\n",
            "116/116 [==============================] - 0s 2ms/step - loss: 0.1415 - accuracy: 0.9560\n",
            "Epoch 33/50\n",
            "116/116 [==============================] - 0s 2ms/step - loss: 0.1412 - accuracy: 0.9560\n",
            "Epoch 34/50\n",
            "116/116 [==============================] - 0s 2ms/step - loss: 0.1409 - accuracy: 0.9560\n",
            "Epoch 35/50\n",
            "116/116 [==============================] - 0s 3ms/step - loss: 0.1405 - accuracy: 0.9560\n",
            "Epoch 36/50\n",
            "116/116 [==============================] - 0s 3ms/step - loss: 0.1421 - accuracy: 0.9560\n",
            "Epoch 37/50\n",
            "116/116 [==============================] - 0s 3ms/step - loss: 0.1406 - accuracy: 0.9560\n",
            "Epoch 38/50\n",
            "116/116 [==============================] - 0s 4ms/step - loss: 0.1401 - accuracy: 0.9560\n",
            "Epoch 39/50\n",
            "116/116 [==============================] - 0s 4ms/step - loss: 0.1397 - accuracy: 0.9560\n",
            "Epoch 40/50\n",
            "116/116 [==============================] - 0s 4ms/step - loss: 0.1395 - accuracy: 0.9560\n",
            "Epoch 41/50\n",
            "116/116 [==============================] - 0s 4ms/step - loss: 0.1393 - accuracy: 0.9560\n",
            "Epoch 42/50\n",
            "116/116 [==============================] - 0s 2ms/step - loss: 0.1393 - accuracy: 0.9560\n",
            "Epoch 43/50\n",
            "116/116 [==============================] - 0s 2ms/step - loss: 0.1394 - accuracy: 0.9560\n",
            "Epoch 44/50\n",
            "116/116 [==============================] - 0s 2ms/step - loss: 0.1392 - accuracy: 0.9560\n",
            "Epoch 45/50\n",
            "116/116 [==============================] - 0s 2ms/step - loss: 0.1388 - accuracy: 0.9560\n",
            "Epoch 46/50\n",
            "116/116 [==============================] - 0s 2ms/step - loss: 0.1388 - accuracy: 0.9560\n",
            "Epoch 47/50\n",
            "116/116 [==============================] - 0s 2ms/step - loss: 0.1387 - accuracy: 0.9560\n",
            "Epoch 48/50\n",
            "116/116 [==============================] - 0s 2ms/step - loss: 0.1386 - accuracy: 0.9560\n",
            "Epoch 49/50\n",
            "116/116 [==============================] - 0s 2ms/step - loss: 0.1386 - accuracy: 0.9560\n",
            "Epoch 50/50\n",
            "116/116 [==============================] - 0s 2ms/step - loss: 0.1385 - accuracy: 0.9560\n"
          ]
        }
      ],
      "source": [
        "# Train the model\n",
        "fit_model = nn.fit(X_train_scaled, y_train, epochs=50, callbacks=[checkpoint_callback])"
      ]
    },
    {
      "cell_type": "code",
      "execution_count": 34,
      "metadata": {
        "colab": {
          "base_uri": "https://localhost:8080/"
        },
        "id": "nytgCkVsSBFz",
        "outputId": "5766cee9-9f6e-4088-ceca-292c7b654a1f"
      },
      "outputs": [
        {
          "output_type": "stream",
          "name": "stdout",
          "text": [
            "39/39 - 0s - loss: 0.1421 - accuracy: 0.9617 - 220ms/epoch - 6ms/step\n",
            "Loss: 0.14209918677806854, Accuracy: 0.9616951942443848\n"
          ]
        }
      ],
      "source": [
        "# Evaluate the model using the test data\n",
        "model_loss, model_accuracy = nn.evaluate(X_test_scaled,y_test,verbose=2)\n",
        "print(f\"Loss: {model_loss}, Accuracy: {model_accuracy}\")"
      ]
    },
    {
      "cell_type": "code",
      "execution_count": null,
      "metadata": {
        "id": "_f1rVEV6SIuJ"
      },
      "outputs": [],
      "source": [
        "# # Export our model to HDF5 file\n",
        "# filepath = r\"keras_model_run0.h5\"\n",
        "# nn.save(filepath, save_format='h5')"
      ]
    },
    {
      "cell_type": "markdown",
      "metadata": {
        "id": "bxjzTC03SQxr"
      },
      "source": [
        "# Optimisation\n",
        "Method: Increasing the number of hidden layers and neurons"
      ]
    },
    {
      "cell_type": "code",
      "execution_count": 35,
      "metadata": {
        "colab": {
          "base_uri": "https://localhost:8080/"
        },
        "id": "UAOpqMQ9STwJ",
        "outputId": "abcd2148-79b3-4d89-db84-dea0dc6c58ff"
      },
      "outputs": [
        {
          "output_type": "stream",
          "name": "stdout",
          "text": [
            "Model: \"sequential_1\"\n",
            "_________________________________________________________________\n",
            " Layer (type)                Output Shape              Param #   \n",
            "=================================================================\n",
            " dense_3 (Dense)             (None, 4)                 84        \n",
            "                                                                 \n",
            " dense_4 (Dense)             (None, 6)                 30        \n",
            "                                                                 \n",
            " dense_5 (Dense)             (None, 8)                 56        \n",
            "                                                                 \n",
            " dense_6 (Dense)             (None, 1)                 9         \n",
            "                                                                 \n",
            "=================================================================\n",
            "Total params: 179 (716.00 Byte)\n",
            "Trainable params: 179 (716.00 Byte)\n",
            "Non-trainable params: 0 (0.00 Byte)\n",
            "_________________________________________________________________\n"
          ]
        }
      ],
      "source": [
        "# Define the model - deep neural net, i.e., the number of input features and hidden nodes for each layer.\n",
        "input_features_number = len(X_train[0])\n",
        "hidden_nodes_layer1 = 4\n",
        "hidden_nodes_layer2 = 6\n",
        "hidden_nodes_layer3 = 8\n",
        "\n",
        "nn = tf.keras.models.Sequential()\n",
        "\n",
        "# First hidden layer\n",
        "nn.add(tf.keras.layers.Dense(units=hidden_nodes_layer1, activation=\"relu\", input_dim = input_features_number))\n",
        "\n",
        "# Second hidden layer\n",
        "nn.add(tf.keras.layers.Dense(units=hidden_nodes_layer2, activation=\"relu\"))\n",
        "\n",
        "# Third hidden layer\n",
        "nn.add(tf.keras.layers.Dense(units=hidden_nodes_layer3, activation=\"sigmoid\"))\n",
        "\n",
        "# Output layer\n",
        "nn.add(tf.keras.layers.Dense(units=1, activation=\"sigmoid\"))\n",
        "\n",
        "# Check the structure of the model\n",
        "nn.summary()"
      ]
    },
    {
      "cell_type": "code",
      "execution_count": 36,
      "metadata": {
        "id": "hWiUAouESlQz"
      },
      "outputs": [],
      "source": [
        "# Compile the model\n",
        "nn.compile(loss=\"binary_crossentropy\", optimizer=\"adam\", metrics=[\"accuracy\"])"
      ]
    },
    {
      "cell_type": "code",
      "execution_count": 37,
      "metadata": {
        "id": "NbwwrnN5SnjX"
      },
      "outputs": [],
      "source": [
        "# Create a callback that saves the model's weights every five epochs\n",
        "checkpoint_callback = ModelCheckpoint(filepath='model_weights_{epoch:02d}.h5',\n",
        "                                      save_weights_only=True,\n",
        "                                      save_freq=5 * len(X_train))  # Save every 5 epochs"
      ]
    },
    {
      "cell_type": "code",
      "execution_count": 38,
      "metadata": {
        "colab": {
          "base_uri": "https://localhost:8080/"
        },
        "id": "feQ0QD7TStuV",
        "outputId": "ff4320c2-1468-4b0c-e6dc-d9ffdbba2d2a"
      },
      "outputs": [
        {
          "output_type": "stream",
          "name": "stdout",
          "text": [
            "Epoch 1/50\n",
            "116/116 [==============================] - 1s 2ms/step - loss: 0.4859 - accuracy: 0.9538\n",
            "Epoch 2/50\n",
            "116/116 [==============================] - 0s 2ms/step - loss: 0.2816 - accuracy: 0.9560\n",
            "Epoch 3/50\n",
            "116/116 [==============================] - 0s 2ms/step - loss: 0.2071 - accuracy: 0.9560\n",
            "Epoch 4/50\n",
            "116/116 [==============================] - 0s 3ms/step - loss: 0.1837 - accuracy: 0.9560\n",
            "Epoch 5/50\n",
            "116/116 [==============================] - 0s 3ms/step - loss: 0.1758 - accuracy: 0.9560\n",
            "Epoch 6/50\n",
            "116/116 [==============================] - 0s 3ms/step - loss: 0.1724 - accuracy: 0.9560\n",
            "Epoch 7/50\n",
            "116/116 [==============================] - 0s 3ms/step - loss: 0.1706 - accuracy: 0.9560\n",
            "Epoch 8/50\n",
            "116/116 [==============================] - 0s 3ms/step - loss: 0.1690 - accuracy: 0.9560\n",
            "Epoch 9/50\n",
            "116/116 [==============================] - 0s 4ms/step - loss: 0.1675 - accuracy: 0.9560\n",
            "Epoch 10/50\n",
            "116/116 [==============================] - 0s 3ms/step - loss: 0.1658 - accuracy: 0.9560\n",
            "Epoch 11/50\n",
            "116/116 [==============================] - 0s 3ms/step - loss: 0.1643 - accuracy: 0.9560\n",
            "Epoch 12/50\n",
            "116/116 [==============================] - 0s 2ms/step - loss: 0.1630 - accuracy: 0.9560\n",
            "Epoch 13/50\n",
            "116/116 [==============================] - 0s 2ms/step - loss: 0.1615 - accuracy: 0.9560\n",
            "Epoch 14/50\n",
            "116/116 [==============================] - 0s 2ms/step - loss: 0.1601 - accuracy: 0.9560\n",
            "Epoch 15/50\n",
            "116/116 [==============================] - 0s 2ms/step - loss: 0.1585 - accuracy: 0.9560\n",
            "Epoch 16/50\n",
            "116/116 [==============================] - 0s 2ms/step - loss: 0.1571 - accuracy: 0.9560\n",
            "Epoch 17/50\n",
            "116/116 [==============================] - 0s 2ms/step - loss: 0.1556 - accuracy: 0.9560\n",
            "Epoch 18/50\n",
            "116/116 [==============================] - 0s 2ms/step - loss: 0.1543 - accuracy: 0.9560\n",
            "Epoch 19/50\n",
            "116/116 [==============================] - 0s 2ms/step - loss: 0.1530 - accuracy: 0.9560\n",
            "Epoch 20/50\n",
            "116/116 [==============================] - 0s 2ms/step - loss: 0.1517 - accuracy: 0.9560\n",
            "Epoch 21/50\n",
            "116/116 [==============================] - 0s 2ms/step - loss: 0.1504 - accuracy: 0.9560\n",
            "Epoch 22/50\n",
            "116/116 [==============================] - 0s 2ms/step - loss: 0.1493 - accuracy: 0.9560\n",
            "Epoch 23/50\n",
            "116/116 [==============================] - 0s 2ms/step - loss: 0.1485 - accuracy: 0.9560\n",
            "Epoch 24/50\n",
            "116/116 [==============================] - 0s 2ms/step - loss: 0.1475 - accuracy: 0.9560\n",
            "Epoch 25/50\n",
            "116/116 [==============================] - 0s 2ms/step - loss: 0.1467 - accuracy: 0.9560\n",
            "Epoch 26/50\n",
            "116/116 [==============================] - 0s 2ms/step - loss: 0.1457 - accuracy: 0.9560\n",
            "Epoch 27/50\n",
            "116/116 [==============================] - 0s 2ms/step - loss: 0.1450 - accuracy: 0.9560\n",
            "Epoch 28/50\n",
            "116/116 [==============================] - 0s 2ms/step - loss: 0.1447 - accuracy: 0.9560\n",
            "Epoch 29/50\n",
            "116/116 [==============================] - 0s 2ms/step - loss: 0.1439 - accuracy: 0.9560\n",
            "Epoch 30/50\n",
            "116/116 [==============================] - 0s 2ms/step - loss: 0.1433 - accuracy: 0.9560\n",
            "Epoch 31/50\n",
            "116/116 [==============================] - 0s 2ms/step - loss: 0.1430 - accuracy: 0.9560\n",
            "Epoch 32/50\n",
            "116/116 [==============================] - 0s 2ms/step - loss: 0.1421 - accuracy: 0.9560\n",
            "Epoch 33/50\n",
            "116/116 [==============================] - 0s 2ms/step - loss: 0.1421 - accuracy: 0.9560\n",
            "Epoch 34/50\n",
            "116/116 [==============================] - 0s 2ms/step - loss: 0.1414 - accuracy: 0.9560\n",
            "Epoch 35/50\n",
            "116/116 [==============================] - 0s 2ms/step - loss: 0.1409 - accuracy: 0.9560\n",
            "Epoch 36/50\n",
            "116/116 [==============================] - 0s 2ms/step - loss: 0.1407 - accuracy: 0.9560\n",
            "Epoch 37/50\n",
            "116/116 [==============================] - 0s 2ms/step - loss: 0.1404 - accuracy: 0.9560\n",
            "Epoch 38/50\n",
            "116/116 [==============================] - 0s 2ms/step - loss: 0.1400 - accuracy: 0.9560\n",
            "Epoch 39/50\n",
            "116/116 [==============================] - 0s 2ms/step - loss: 0.1399 - accuracy: 0.9560\n",
            "Epoch 40/50\n",
            "116/116 [==============================] - 0s 2ms/step - loss: 0.1396 - accuracy: 0.9560\n",
            "Epoch 41/50\n",
            "116/116 [==============================] - 0s 2ms/step - loss: 0.1393 - accuracy: 0.9560\n",
            "Epoch 42/50\n",
            "116/116 [==============================] - 0s 2ms/step - loss: 0.1390 - accuracy: 0.9560\n",
            "Epoch 43/50\n",
            "116/116 [==============================] - 0s 2ms/step - loss: 0.1389 - accuracy: 0.9560\n",
            "Epoch 44/50\n",
            "116/116 [==============================] - 0s 2ms/step - loss: 0.1387 - accuracy: 0.9560\n",
            "Epoch 45/50\n",
            "116/116 [==============================] - 0s 2ms/step - loss: 0.1386 - accuracy: 0.9560\n",
            "Epoch 46/50\n",
            "116/116 [==============================] - 0s 2ms/step - loss: 0.1386 - accuracy: 0.9560\n",
            "Epoch 47/50\n",
            "116/116 [==============================] - 0s 2ms/step - loss: 0.1384 - accuracy: 0.9560\n",
            "Epoch 48/50\n",
            "116/116 [==============================] - 0s 3ms/step - loss: 0.1383 - accuracy: 0.9560\n",
            "Epoch 49/50\n",
            "116/116 [==============================] - 0s 3ms/step - loss: 0.1383 - accuracy: 0.9560\n",
            "Epoch 50/50\n",
            "116/116 [==============================] - 0s 4ms/step - loss: 0.1380 - accuracy: 0.9560\n"
          ]
        }
      ],
      "source": [
        "# Train the model\n",
        "fit_model = nn.fit(X_train_scaled, y_train, epochs=50, callbacks=[checkpoint_callback])"
      ]
    },
    {
      "cell_type": "code",
      "execution_count": 39,
      "metadata": {
        "colab": {
          "base_uri": "https://localhost:8080/"
        },
        "id": "l4Up1dDnTK9u",
        "outputId": "70b46075-cda9-4a8f-d838-e9f738efcabd"
      },
      "outputs": [
        {
          "output_type": "stream",
          "name": "stdout",
          "text": [
            "39/39 - 0s - loss: 0.1464 - accuracy: 0.9617 - 192ms/epoch - 5ms/step\n",
            "Loss: 0.14636258780956268, Accuracy: 0.9616951942443848\n"
          ]
        }
      ],
      "source": [
        "# Evaluate the model using the test data\n",
        "model_loss, model_accuracy = nn.evaluate(X_test_scaled,y_test,verbose=2)\n",
        "print(f\"Loss: {model_loss}, Accuracy: {model_accuracy}\")"
      ]
    },
    {
      "cell_type": "code",
      "execution_count": null,
      "metadata": {
        "id": "PnIt1dAoTRGx"
      },
      "outputs": [],
      "source": [
        "# # Export our model to HDF5 file\n",
        "# filepath = r\"keras_model_run1.h5\"\n",
        "# nn.save(filepath, save_format='h5')"
      ]
    }
  ],
  "metadata": {
    "colab": {
      "provenance": [],
      "toc_visible": true
    },
    "kernelspec": {
      "display_name": "Python 3",
      "name": "python3"
    },
    "language_info": {
      "name": "python"
    }
  },
  "nbformat": 4,
  "nbformat_minor": 0
}
